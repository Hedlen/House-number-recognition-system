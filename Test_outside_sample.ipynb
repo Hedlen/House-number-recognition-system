{
 "cells": [
  {
   "cell_type": "code",
   "execution_count": 2,
   "metadata": {},
   "outputs": [
    {
     "name": "stdout",
     "output_type": "stream",
     "text": [
      "Populating the interactive namespace from numpy and matplotlib\n"
     ]
    }
   ],
   "source": [
    "import tensorflow as tf\n",
    "from model import Model\n",
    "%pylab inline"
   ]
  },
  {
   "cell_type": "code",
   "execution_count": 3,
   "metadata": {
    "collapsed": true
   },
   "outputs": [],
   "source": [
    "path_to_image_files = ['data/images/36.jpg', 'data/images/57.jpg', 'data/images/100.jpg',\n",
    "                       'data/images/58.jpg', 'data/images/799.jpg', 'data/images/8888.jpg']\n",
    "images = []\n",
    "for path_to_image_file in path_to_image_files:\n",
    "    image = tf.image.decode_jpeg(tf.read_file(path_to_image_file), channels=3)\n",
    "    image = tf.reshape(image, [64, 64, 3])\n",
    "    image = tf.image.convert_image_dtype(image, dtype=tf.float32)\n",
    "    image = tf.multiply(tf.subtract(image, 0.5), 2)\n",
    "    image = tf.image.resize_images(image, [54, 54])\n",
    "    images.append(image)\n",
    "images = tf.stack(images)"
   ]
  },
  {
   "cell_type": "code",
   "execution_count": 4,
   "metadata": {
    "collapsed": true
   },
   "outputs": [],
   "source": [
    "length_logits, digits_logits = Model.inference(images, drop_rate=0.0)\n",
    "length_predictions = tf.argmax(length_logits, axis=1)\n",
    "digits_predictions = tf.argmax(digits_logits, axis=2)\n",
    "digits_predictions_string = tf.reduce_join(tf.as_string(digits_predictions), axis=1)"
   ]
  },
  {
   "cell_type": "code",
   "execution_count": 5,
   "metadata": {
    "collapsed": true
   },
   "outputs": [],
   "source": [
    "sess = tf.InteractiveSession()"
   ]
  },
  {
   "cell_type": "code",
   "execution_count": null,
   "metadata": {
    "collapsed": true
   },
   "outputs": [],
   "source": [
    "restorer = tf.train.Saver()\n",
    "checkpoint_path = tf.train.latest_checkpoint('logs/train')\n",
    "restorer.restore(sess, checkpoint_path)"
   ]
  },
  {
   "cell_type": "code",
   "execution_count": 6,
   "metadata": {
    "collapsed": true
   },
   "outputs": [],
   "source": [
    "length_predictions_val, digits_predictions_string_val, images_val = sess.run([length_predictions, digits_predictions_string, images])\n",
    "images_val = (images_val / 2.0) + 0.5"
   ]
  },
  {
   "cell_type": "code",
   "execution_count": null,
   "metadata": {
    "collapsed": true
   },
   "outputs": [],
   "source": [
    "idx = 4\n",
    "image_val = images_val[idx]\n",
    "length_prediction_val = length_predictions_val[idx]\n",
    "digits_prediction_string_val = digits_predictions_string_val[idx]\n",
    "imshow(images_val[idx])\n",
    "print 'length: %d' % length_prediction_val\n",
    "print 'digits: %s' % digits_prediction_string_val"
   ]
  },
  {
   "cell_type": "code",
   "execution_count": 10,
   "metadata": {
    "collapsed": true
   },
   "outputs": [],
   "source": [
    "sess.close()"
   ]
  }
 ],
 "metadata": {
  "kernelspec": {
   "display_name": "Python 3",
   "language": "python",
   "name": "python3"
  },
  "language_info": {
   "codemirror_mode": {
    "name": "ipython",
    "version": 3
   },
   "file_extension": ".py",
   "mimetype": "text/x-python",
   "name": "python",
   "nbconvert_exporter": "python",
   "pygments_lexer": "ipython3",
   "version": "3.5.3"
  }
 },
 "nbformat": 4,
 "nbformat_minor": 1
}
